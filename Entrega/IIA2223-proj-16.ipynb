{
 "cells": [
  {
   "cell_type": "markdown",
   "metadata": {
    "colab_type": "text",
    "id": "LekFEsVbua_R"
   },
   "source": [
    "#  Jogo BreakThrough\n",
    "\n",
    "## Introdução à Inteligência Artificial edição 2022/23\n",
    "### Projeto para avaliação\n",
    "\n",
    "<img src=\".\\images\\Picture0.png\" alt=\"Drawing\" style=\"width: 200px;\"/>"
   ]
  },
  {
   "cell_type": "markdown",
   "metadata": {},
   "source": [
    "### Grupo: 16\n",
    "\n",
    "#### Elementos do Grupo\n",
    "\n",
    "Nome: João Assis\n",
    "\n",
    "Número: 56325\n",
    "\n",
    "Nome: Marina Novaes\n",
    "\n",
    "Número: 55942\n",
    "\n",
    "Nome: Ricardo Mateus\n",
    "\n",
    "Número: 56366"
   ]
  },
  {
   "cell_type": "markdown",
   "metadata": {},
   "source": [
    "## Introdução\n",
    "Este relatório descreve os processos de raciocínio por detrás da implementação das várias funções constituintes do jogo breakthrough."
   ]
  },
  {
   "cell_type": "code",
   "execution_count": 291,
   "metadata": {},
   "outputs": [],
   "source": [
    "from copy import *\n",
    "from random import *\n",
    "from jogos import *\n",
    "from jogar import *\n",
    "from utils import *\n",
    "import string\n",
    "import random\n",
    "\n",
    "from collections import namedtuple\n",
    "\n",
    "stateBreakthru = namedtuple('EstadoBreakthru', 'to_move')\n",
    "\n",
    "class EstadoBreakthru(stateBreakthru):\n",
    "    \n",
    "    def __init__(self, to_move=1, n=8):\n",
    "        self.board = [['.' for i in range(n)] for i in range(n)]\n",
    "        #self.terminou = self.verificar_terminou()\n",
    "        for i in range(2):\n",
    "            for j in range(8):\n",
    "                self.board[i][j] = 'B'\n",
    "\n",
    "        for i in range(6, 8):\n",
    "            for j in range(8):\n",
    "                self.board[i][j] = 'W'\n",
    "\n",
    "    def verificar_terminou(self):\n",
    "        # 1 = White,  2 = Black\n",
    "        if self.to_move == 2:\n",
    "            for row in range(len(self.board)):\n",
    "                if (self.board[0][row] == 'W'):\n",
    "                    return 1\n",
    "        elif self.to_move == 1:\n",
    "            for row in range(len(self.board)):\n",
    "                if (self.board[7][row] == 'B'):\n",
    "                    return 2\n",
    "        return 0\n",
    "    \n",
    "    def pos_convert(self, i, j):\n",
    "        alfabeto = \"abcdefgh\"\n",
    "        return alfabeto[j] + str(8 - i)\n",
    "\n",
    "    def move_convert(self, move):\n",
    "        numbers = []\n",
    "        alfabeto = \"abcdefgh\"\n",
    "        numbers.append(int(alfabeto.rfind(move[0]))) \n",
    "        numbers.append(int(move[1]) - 1)\n",
    "        return numbers\n",
    "\n",
    "    def moves(self, to_move):\n",
    "        list_moves = []\n",
    "\n",
    "        for row in range(len(self.board)):\n",
    "            for col in range(len(self.board)):\n",
    "\n",
    "                if to_move == 1 and self.board[col][row] == 'W': # para as brancas\n",
    "\n",
    "                    if col > 0 and self.board[col-1][row] == '.': # cima\n",
    "                        list_moves.append(\"{pos1}-{pos2}\".format(pos1=self.pos_convert(col,row), pos2=self.pos_convert(col-1,row)))\n",
    "\n",
    "                    if col > 0 and row < 7 and (self.board[col-1][row+1] == '.' or self.board[col-1][row+1] == 'B'): # diagonal direita cima\n",
    "                        list_moves.append(\"{pos1}-{pos2}\".format(pos1=self.pos_convert(col,row), pos2=self.pos_convert(col-1,row+1)))\n",
    "\n",
    "                    if col > 0 and row > 0 and (self.board[col-1][row-1] == '.' or self.board[col-1][row-1] == 'B'): # diagonal esquerda cima\n",
    "                        list_moves.append(\"{pos1}-{pos2}\".format(pos1=self.pos_convert(col,row), pos2=self.pos_convert(col-1,row-1)))\n",
    "                        \n",
    "                if to_move == 2 and self.board[col][row] == 'B': # para as pretas\n",
    "\n",
    "                    if col < 7 and self.board[col+1][row] == '.': # baixo\n",
    "                        list_moves.append(\"{pos1}-{pos2}\".format(pos1=self.pos_convert(col,row), pos2=self.pos_convert(col+1,row)))\n",
    "\n",
    "                    if col < 7 and row < 7 and (self.board[col+1][row+1] == '.' or self.board[col+1][row+1] == 'W'): # diagonal direita baixo\n",
    "                        list_moves.append(\"{pos1}-{pos2}\".format(pos1=self.pos_convert(col,row), pos2=self.pos_convert(col+1,row+1)))\n",
    "\n",
    "                    if col < 7 and row > 0 and (self.board[col+1][row-1] == '.' or self.board[col+1][row-1] == 'W'): # diagonal esquerda baixo\n",
    "                        list_moves.append(\"{pos1}-{pos2}\".format(pos1=self.pos_convert(col,row), pos2=self.pos_convert(col+1,row-1)))\n",
    "    \n",
    "        return sorted(list_moves)\n",
    "\n",
    "## CLASS JOGO ##\n",
    "class JogoBT_16(Game):\n",
    "    \"\"\"Play Breakthrough on an 8 x 8 board, with Max (first player) playing 'W' (1).\n",
    "    \"\"\"\n",
    "    def __init__(self):\n",
    "        self.initial = EstadoBreakthru(to_move=1)\n",
    "        self.board = [['.' for i in range(8)] for i in range(8)]\n",
    "        for i in range(2):\n",
    "            for j in range(8):\n",
    "                self.board[i][j] = 'B'\n",
    "\n",
    "        for i in range(6, 8):\n",
    "            for j in range(8):\n",
    "                self.board[i][j] = 'W'\n",
    "\n",
    "    def actions(self, state):\n",
    "        \"Legal moves for B and W\"\n",
    "        #Apenas queremos ver as ações possíveis para o jogador atual (to_move)\n",
    "        return state.moves(state.to_move)\n",
    "\n",
    "    def result(self, state, move):\n",
    "        if state.to_move == 1:\n",
    "            index_start = state.move_convert(move[0:2])\n",
    "            new_index = state.move_convert(move[3:5])\n",
    "            state.board[7 - index_start[1]][index_start[0]] = '.'\n",
    "            state.board[7 - new_index[1]][new_index[0]] = 'W'\n",
    "            novo_estado = state._replace(to_move=2)\n",
    "            novo_estado.board = state.board.copy()\n",
    "            return novo_estado\n",
    "        else:\n",
    "            index_start = state.move_convert(move[0:2])\n",
    "            new_index = state.move_convert(move[3:5])\n",
    "            state.board[7 - index_start[1]][index_start[0]] = '.'\n",
    "            state.board[7 - new_index[1]][new_index[0]] = 'B'\n",
    "            novo_estado = state._replace(to_move=1)\n",
    "            novo_estado.board = state.board.copy()\n",
    "            return novo_estado\n",
    "\n",
    "    def utility(self, state, player):\n",
    "        \"If player wins in this state, return 1; if otherplayer wins return -1; else return 0.\"\n",
    "        if player == state.verificar_terminou():\n",
    "            return 1\n",
    "        elif player != state.verificar_terminou() and state.verificar_terminou() > 0:\n",
    "            return -1\n",
    "        else:\n",
    "            return 0\n",
    "\n",
    "    def terminal_test(self, state):\n",
    "        \"A state is terminal if the whites reached line 8 or some black reached line 1.\"\n",
    "        return state.verificar_terminou() >= 1\n",
    "\n",
    "    def display(self, state):\n",
    "        symbols = \"abcdefgh\"\n",
    "        print(\"-\"*17)\n",
    "        for i in range(len(state.board)):\n",
    "            print(\"{num}|\".format(num=8-i) + ' '.join(state.board[i]))\n",
    "        print(\"-+\" + \"-\"*15)\n",
    "        print(\" |\" + ' '.join(i for i in symbols))\n",
    "\n",
    "        if state.verificar_terminou() >= 1:\n",
    "            return\n",
    "        elif state.to_move == 1:\n",
    "            print(\"--NEXT PLAYER: W\")\n",
    "        elif state.to_move == 2:\n",
    "            print(\"--NEXT PLAYER: B\")\n",
    "\n",
    "    def executa(self, estado, listaJogadas):\n",
    "        \"executa varias jogadas sobre um estado dado\"\n",
    "        \"devolve o estado final \"\n",
    "        s = estado\n",
    "        for j in listaJogadas:\n",
    "            s = self.result(s, j)\n",
    "        return s\n",
    "\n",
    "## Jogadores ##\n",
    " \n",
    "depth_for_all = 3\n",
    "\n",
    "def count_pieces_line(state, jogador, line):\n",
    "    count = 0\n",
    "    if jogador == 1:\n",
    "        for i in range(len(state.board)):\n",
    "            if state.board[line - 1][i] == 'W':\n",
    "                count += 1\n",
    "    elif jogador == 2:\n",
    "        for i in range(len(state.board)):\n",
    "            if state.board[line - 1][i] == 'B':\n",
    "                count += 1     \n",
    "    return count\n",
    "\n",
    "def func_simples1(game, state):\n",
    "    moves = game.actions(state)\n",
    "    return moves[0] #faz sempre o 1º move\n",
    "\n",
    "def func_simples2(game, state):\n",
    "    moves = game.actions(state)\n",
    "    return moves[len(moves) - 1] #fazsempre o último move\n",
    "\n",
    "def func_aval_player2(estado, jogador): #uma heurística defensiva\n",
    "    count = 0\n",
    "    if jogador == 1:\n",
    "        for col in range(len(estado.board)):\n",
    "            for line in range(len(estado.board)):\n",
    "                if estado.board[col][line] == 'W':\n",
    "                    count += col\n",
    "\n",
    "    elif jogador == 2:\n",
    "        for col in range(len(estado.board)):\n",
    "            for line in range(len(estado.board)):\n",
    "                if estado.board[col][line] == 'B':\n",
    "                    count += col\n",
    "                    \n",
    "    return count\n",
    "\n",
    "def func_aval_16(estado, jogador): #uma heurística ofensiva\n",
    "    count = 0\n",
    "    if jogador == 1:\n",
    "        for col in range(len(estado.board)):\n",
    "            for line in range(len(estado.board)):\n",
    "                if estado.board[col][line] == 'W':\n",
    "                    count += len(estado.board) - col\n",
    "\n",
    "    elif jogador == 2:\n",
    "        for col in range(len(estado.board)):\n",
    "            for line in range(len(estado.board)):\n",
    "                if estado.board[col][line] == 'B':\n",
    "                    count += len(estado.board) - col\n",
    "\n",
    "    return count\n",
    "\n",
    "def func_aval_belarmino(state, jogador):\n",
    "    count = 0\n",
    "    if jogador == 1:\n",
    "        for i in range(1, 9):\n",
    "            count += (i ** i) * count_pieces_line(state, jogador, i)\n",
    "    else:\n",
    "        for i in range(8, 0, -1):\n",
    "            count += ((9-i) ** (9-i)) * count_pieces_line(state, jogador, i)\n",
    "    return count"
   ]
  },
  {
   "cell_type": "markdown",
   "metadata": {},
   "source": [
    "## Formulação do Jogo BreakThrough em termos de estados e de operadores"
   ]
  },
  {
   "cell_type": "markdown",
   "metadata": {},
   "source": [
    "### Descrição da representação dos estados do jogo"
   ]
  },
  {
   "cell_type": "markdown",
   "metadata": {},
   "source": [
    "No nosso estado, o *board* é representado por uma matriz em que as peças pretas são representadas por *'B'*, as peças brancas são representadas por *'W'* e os espaços vazios são representados por *'.'*"
   ]
  },
  {
   "cell_type": "markdown",
   "metadata": {},
   "source": [
    "### Testes da formulação"
   ]
  },
  {
   "cell_type": "markdown",
   "metadata": {},
   "source": [
    "#### Situações iniciais dos jogos\n",
    "Uso do construtor e \"display\" de jogos iniciais"
   ]
  },
  {
   "cell_type": "markdown",
   "metadata": {},
   "source": [
    "Construção de um novo jogo com a situação inicial seguinte:\n",
    "\n",
    "<img src=\".\\images\\Picture1.png\" alt=\"Drawing\" style=\"width: 150px;\"/>\n",
    "<p style=\"text-align: center;\">Figura 1</p>"
   ]
  },
  {
   "cell_type": "code",
   "execution_count": 292,
   "metadata": {},
   "outputs": [],
   "source": [
    "jj = JogoBT_16()"
   ]
  },
  {
   "cell_type": "markdown",
   "metadata": {},
   "source": [
    "Eis o display desse estado inicial do jogo:"
   ]
  },
  {
   "cell_type": "code",
   "execution_count": 293,
   "metadata": {},
   "outputs": [
    {
     "name": "stdout",
     "output_type": "stream",
     "text": [
      "-----------------\n",
      "8|B B B B B B B B\n",
      "7|B B B B B B B B\n",
      "6|. . . . . . . .\n",
      "5|. . . . . . . .\n",
      "4|. . . . . . . .\n",
      "3|. . . . . . . .\n",
      "2|W W W W W W W W\n",
      "1|W W W W W W W W\n",
      "-+---------------\n",
      " |a b c d e f g h\n",
      "--NEXT PLAYER: W\n"
     ]
    }
   ],
   "source": [
    "jj.display(jj.initial)"
   ]
  },
  {
   "cell_type": "markdown",
   "metadata": {},
   "source": [
    "## Jogos entre jogadores simples\n",
    "Nesta secção irão realizar alguns jogos, para verificar a modelização"
   ]
  },
  {
   "cell_type": "code",
   "execution_count": 294,
   "metadata": {},
   "outputs": [],
   "source": [
    "gervasio = Jogador(\"Gervásio\", func_simples1)\n",
    "\n",
    "kiki = Jogador(\"Kiki\", func_simples2)\n",
    "\n",
    "jogar1 = joga11(jj, gervasio, kiki)\n"
   ]
  },
  {
   "cell_type": "markdown",
   "metadata": {},
   "source": [
    "Faça o display de um dos jogos realizados atrás"
   ]
  },
  {
   "cell_type": "code",
   "execution_count": 295,
   "metadata": {},
   "outputs": [
    {
     "name": "stdout",
     "output_type": "stream",
     "text": [
      "Gervásio vs Kiki\n",
      "Ganham as Whites\n",
      "-----------------\n",
      "8|B W B B B B . .\n",
      "7|. W B B B B . .\n",
      "6|W W . . . . . .\n",
      "5|. . . . . . . .\n",
      "4|. . . . . . . .\n",
      "3|. . . . . . B B\n",
      "2|. . W W W W B B\n",
      "1|. . W W W W W W\n",
      "-+---------------\n",
      " |a b c d e f g h\n",
      "--NEXT PLAYER: W\n"
     ]
    }
   ],
   "source": [
    "mostraJogo(jj, jogar1)\n",
    "\n",
    "jj.display(jj.initial)"
   ]
  },
  {
   "cell_type": "markdown",
   "metadata": {},
   "source": [
    "## Exemplos de jogadores alfabeta\n",
    " Descreva e teste nesta secção as várias funções de avaliação desenvolvidas tanto para o ataque como para a defesa."
   ]
  },
  {
   "cell_type": "markdown",
   "metadata": {},
   "source": [
    "A função de avaliação de ataque e a função de avaliação de defesa baseiam-se na distância da hamming, em que na de ataque o jogador é \"recompensado\" por ter peças mais à frente e na de defesa o jogador é \"recompensado\" por ter as peças recuadas."
   ]
  },
  {
   "cell_type": "code",
   "execution_count": 296,
   "metadata": {},
   "outputs": [
    {
     "name": "stdout",
     "output_type": "stream",
     "text": [
      "Mario vs JogadorBT_16\n",
      "Ganham as Blacks\n"
     ]
    }
   ],
   "source": [
    "jj2 = JogoBT_16()\n",
    "\n",
    "mario = JogadorAlfaBeta(\"Mario\", depth_for_all, func_aval_player2)\n",
    "\n",
    "jogadorBT_16 = JogadorAlfaBeta(\"JogadorBT_16\", depth_for_all, func_aval_16)\n",
    "\n",
    "jogar2 = joga11(jj2, mario, jogadorBT_16)\n",
    "\n",
    "mostraJogo(jj2, jogar2)"
   ]
  },
  {
   "cell_type": "markdown",
   "metadata": {},
   "source": [
    "## Exemplos de jogos entre alguns desses jogadores e o Belarmino"
   ]
  },
  {
   "cell_type": "code",
   "execution_count": 297,
   "metadata": {},
   "outputs": [
    {
     "name": "stdout",
     "output_type": "stream",
     "text": [
      "Belarmino vs JogadorBT_16\n",
      "Ganham as Blacks\n",
      "Belarmino vs Mario\n",
      "Ganham as Blacks\n"
     ]
    }
   ],
   "source": [
    "belarmino = JogadorAlfaBeta(\"Belarmino\", depth_for_all, func_aval_belarmino)\n",
    "\n",
    "jj3 = JogoBT_16()\n",
    "\n",
    "jogar3 = joga11(jj3, belarmino, jogadorBT_16)\n",
    "\n",
    "mostraJogo(jj3, jogar3)\n",
    "\n",
    "jj4 = JogoBT_16()\n",
    "\n",
    "jogar4 = joga11(jj4, belarmino, mario)\n",
    "\n",
    "mostraJogo(jj4, jogar4)"
   ]
  },
  {
   "cell_type": "markdown",
   "metadata": {},
   "source": [
    "## Exemplos de jogos entre dois dos vários jogadores desenvolvidos"
   ]
  },
  {
   "cell_type": "code",
   "execution_count": 298,
   "metadata": {},
   "outputs": [
    {
     "name": "stdout",
     "output_type": "stream",
     "text": [
      "Gervásio vs JogadorBT_16\n",
      "Ganham as Whites\n",
      "Kiki vs JogadorBT_16\n",
      "Ganham as Whites\n"
     ]
    }
   ],
   "source": [
    "jj5 = JogoBT_16()\n",
    "\n",
    "jogar5 = joga11(jj5, gervasio, jogadorBT_16)\n",
    "\n",
    "mostraJogo(jj5, jogar5)\n",
    "\n",
    "jj6 = JogoBT_16()\n",
    "\n",
    "jogar6 = joga11(jj6, kiki, jogadorBT_16)\n",
    "\n",
    "mostraJogo(jj6, jogar6)"
   ]
  },
  {
   "cell_type": "markdown",
   "metadata": {},
   "source": [
    "## Processo de selecção dos jogadores para o torneio\n",
    "Descreva o processo de selecção dos jogadores campeões, para entrar no campeonato \"todos contra todos\".\n",
    "\n"
   ]
  },
  {
   "cell_type": "markdown",
   "metadata": {},
   "source": [
    "Como apenas tinhamos 5 jogadores desenvolvidos, e com base nos jogos anteriores, temos a seguinte sequência: gervásio > kiki > jogadorBT_16 > mario > belarmino. Conseguimos observar que o gervásio é o melhor de todos os jogadores. No entanto, como apenas podemos utilizar jogadores alphabeta, e o melhor deles é o jogadorBT_16, entramos com o jogadorBT_16 no campeonato \"todos contra todos\"."
   ]
  }
 ],
 "metadata": {
  "colab": {
   "collapsed_sections": [],
   "name": "Untitled0.ipynb",
   "provenance": [],
   "version": "0.3.2"
  },
  "kernelspec": {
   "display_name": "Python 3.9.2 64-bit",
   "language": "python",
   "name": "python3"
  },
  "language_info": {
   "codemirror_mode": {
    "name": "ipython",
    "version": 3
   },
   "file_extension": ".py",
   "mimetype": "text/x-python",
   "name": "python",
   "nbconvert_exporter": "python",
   "pygments_lexer": "ipython3",
   "version": "3.10.6"
  },
  "vscode": {
   "interpreter": {
    "hash": "916dbcbb3f70747c44a77c7bcd40155683ae19c65e1c03b4aa3499c5328201f1"
   }
  }
 },
 "nbformat": 4,
 "nbformat_minor": 2
}
