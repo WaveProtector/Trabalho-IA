{
 "cells": [
  {
   "cell_type": "code",
   "execution_count": null,
   "metadata": {},
   "outputs": [],
   "source": [
    "from copy import *\n",
    "from random import *\n",
    "from jogos import *\n",
    "from utils import *\n",
    "import string\n",
    "\n",
    "from collections import namedtuple\n",
    "\n",
    "stateBreaktrhu = namedtuple('EstadoBreakthru', 'to_move whites blacks')\n",
    "\n",
    "class EstadoBreakthru(stateBreaktrhu):\n",
    "\n",
    "    def init(self, to_move, n=8):\n",
    "        self.board = [['.' for i in range(n)] for i in range(n)]\n",
    "\n",
    "        for i in range(2):\n",
    "            for j in range(8):\n",
    "                self.board[i][j] = 'W'\n",
    "\n",
    "        for i in range(6, 8):\n",
    "            for j in range(8):\n",
    "                self.board[i][j] = 'B'\n",
    "\n",
    "    \n",
    "\n",
    "\n",
    "## CLASS JOGO ##\n",
    "class JogoBT_16(Game):\n",
    "    \"\"\"Play Breakthrough on an 8 x 8 board, with Max (first player) playing 'W' (1).\n",
    "    \"\"\"\n",
    "    def init(self, to_move, n=8):\n",
    "        self.initial = EstadoBreakthru(to_move=1, n=8)\n",
    "\n",
    "    def actions(self, state):\n",
    "        \"Legal moves for B and W\"\n",
    "        #Apenas queremos ver as ações possíveis para o jogador atual (to_move)\n",
    "        if state.to_move == 1:\n",
    "            for pos_w in state.whites:\n",
    "\n",
    "        else:\n",
    "            #TODO\n",
    "\n",
    "    def result(self, state, move):\n",
    "        pass\n",
    "\n",
    "    def terminal_test(self, state):\n",
    "        \"A state is terminal if the whites reached line 8 or some black reached line 1.\"\n",
    "        pass\n",
    "\n",
    "    def display(self, state):\n",
    "        pass\n",
    "\n",
    "    def executa(self, estado, listaJogadas):\n",
    "        \"executa varias jogadas sobre um estado dado\"\n",
    "        \"devolve o estado final \"\n",
    "        s = estado\n",
    "        for j in listaJogadas:\n",
    "            s = self.result(s, j)\n",
    "        return s"
   ]
  }
 ],
 "metadata": {
  "kernelspec": {
   "display_name": "Python 3.10.6 64-bit",
   "language": "python",
   "name": "python3"
  },
  "language_info": {
   "name": "python",
   "version": "3.10.6"
  },
  "orig_nbformat": 4,
  "vscode": {
   "interpreter": {
    "hash": "916dbcbb3f70747c44a77c7bcd40155683ae19c65e1c03b4aa3499c5328201f1"
   }
  }
 },
 "nbformat": 4,
 "nbformat_minor": 2
}
