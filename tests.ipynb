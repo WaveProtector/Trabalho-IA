{
 "cells": [
  {
   "cell_type": "code",
   "execution_count": 14,
   "metadata": {},
   "outputs": [],
   "source": [
    "n = 8\n",
    "board = [['.' for i in range(n)] for i in range(n)]"
   ]
  },
  {
   "cell_type": "code",
   "execution_count": 15,
   "metadata": {},
   "outputs": [],
   "source": [
    "for x in range(2):\n",
    "    for y in range(8):\n",
    "        board[x][y] = \"W\"      "
   ]
  },
  {
   "cell_type": "code",
   "execution_count": 16,
   "metadata": {},
   "outputs": [
    {
     "name": "stdout",
     "output_type": "stream",
     "text": [
      "W W W W W W W W\n",
      "W W W W W W W W\n",
      ". . . . . . . .\n",
      ". . . . . . . .\n",
      ". . . . . . . .\n",
      ". . . . . . . .\n",
      ". . . . . . . .\n",
      ". . . . . . . .\n"
     ]
    }
   ],
   "source": [
    "print(\"\\n\".join(' '.join(c for c in row) for row in board))"
   ]
  },
  {
   "cell_type": "code",
   "execution_count": 17,
   "metadata": {},
   "outputs": [],
   "source": [
    "for x in range(6, 8):\n",
    "    for y in range(8):\n",
    "        board[x][y] = \"B\"   "
   ]
  },
  {
   "cell_type": "code",
   "execution_count": 18,
   "metadata": {},
   "outputs": [
    {
     "name": "stdout",
     "output_type": "stream",
     "text": [
      "W W W W W W W W\n",
      "W W W W W W W W\n",
      ". . . . . . . .\n",
      ". . . . . . . .\n",
      ". . . . . . . .\n",
      ". . . . . . . .\n",
      "B B B B B B B B\n",
      "B B B B B B B B\n"
     ]
    }
   ],
   "source": [
    "print(\"\\n\".join(' '.join(c for c in row) for row in board))"
   ]
  },
  {
   "cell_type": "code",
   "execution_count": 19,
   "metadata": {},
   "outputs": [],
   "source": [
    "board = [['.' for i in range(n)] for i in range(n)]\n",
    "\n",
    "for i in range(2):\n",
    "    for j in range(8):\n",
    "        board[i][j] = 'B'\n",
    "\n",
    "for i in range(6, 8):\n",
    "    for j in range(8):\n",
    "        board[i][j] = 'W'\n",
    "\n",
    "def moves(to_move):\n",
    "    list_moves = set()\n",
    "    for i in range(0,8):\n",
    "        for j in range(0,8):\n",
    "            if board[i][j] == 'B' and to_move == 2 and j+1 <= 7:\n",
    "                if board[i+1][j] == '.' and i+1 <= 7:\n",
    "                    list_moves.add(\"{pos1}-{pos2}\".format(pos1=pos_convert(i,j), pos2=pos_convert(i+1,j)))\n",
    "                if (board[i+1][j+1] == 'W' or board[i+1][j+1] == '.') and i+1 <= 7 and j+1 <= 7:\n",
    "                    list_moves.add(\"{pos1}-{pos2}\".format(pos1=pos_convert(i,j), pos2=pos_convert(i+1,j+1)))\n",
    "                if (board[i+1][j-1] == 'W' or board[i+1][j-1] == '.') and i+1 <=7 and j-1 >= 0:\n",
    "                    list_moves.add(\"{pos1}-{pos2}\".format(pos1=pos_convert(i,j), pos2=pos_convert(i+1,j-1)))\n",
    "            if board[i][j] == 'B' and to_move == 2 and j+1 == 8:\n",
    "                if board[i+1][j] == '.' and i+1 <= 7:\n",
    "                    list_moves.add(\"{pos1}-{pos2}\".format(pos1=pos_convert(i,j), pos2=pos_convert(i+1,j)))\n",
    "                if (board[i+1][j-1] == 'W' or board[i+1][j-1] == '.') and i+1 <= 7:\n",
    "                    list_moves.add(\"{pos1}-{pos2}\".format(pos1=pos_convert(i,j), pos2=pos_convert(i+1,j-1)))           \n",
    "\n",
    "            if board[i][j] == 'W' and to_move == 1 and j+1 <= 7:\n",
    "                if board[i-1][j] == '.' and i-1 >= 0:\n",
    "                    list_moves.add(\"{pos1}-{pos2}\".format(pos1=pos_convert(i,j), pos2=pos_convert(i-1,j)))\n",
    "                if (board[i-1][j+1] == 'B' or board[i-1][j+1] == '.') and i-1 >= 0 and j+1 <= 7:\n",
    "                    list_moves.add(\"{pos1}-{pos2}\".format(pos1=pos_convert(i,j), pos2=pos_convert(i-1,j+1)))\n",
    "                if (board[i-1][j-1] == 'B' or board[i-1][j-1] == '.') and i-1 >= 0 and j-1 >= 0:\n",
    "                    list_moves.add(\"{pos1}-{pos2}\".format(pos1=pos_convert(i,j), pos2=pos_convert(i-1,j-1)))\n",
    "            if board[i][j] == 'W' and to_move == 1 and j+1 == 8:\n",
    "                if board[i-1][j] == '.' and i-1 >= 0:\n",
    "                    list_moves.add(\"{pos1}-{pos2}\".format(pos1=pos_convert(i,j), pos2=pos_convert(i-1,j)))\n",
    "                if (board[i-1][j-1] == 'B' or board[i-1][j-1] == '.') and i-1 >= 0:\n",
    "                    list_moves.add(\"{pos1}-{pos2}\".format(pos1=pos_convert(i,j), pos2=pos_convert(i-1,j-1)))\n",
    "        \n",
    "    return list_moves\n",
    "\n",
    "def pos_convert(i, j):\n",
    "    alfabeto = \"abcdefgh\"\n",
    "    return alfabeto[j] + str(i + 1)"
   ]
  },
  {
   "cell_type": "code",
   "execution_count": 20,
   "metadata": {},
   "outputs": [
    {
     "name": "stdout",
     "output_type": "stream",
     "text": [
      "-----------------\n",
      "8|B B B B B B B B\n",
      "7|B B B B B B B B\n",
      "6|. . . . . . . .\n",
      "5|. . . . . . . .\n",
      "4|. . . . . . . .\n",
      "3|. . . . . . . .\n",
      "2|W W W W W W W W\n",
      "1|W W W W W W W W\n",
      "-+---------------\n",
      " |a b c d e f g h\n"
     ]
    }
   ],
   "source": [
    "symbols = \"abcdefgh\"\n",
    "print(\"-\"*17)\n",
    "for i in range(len(board)):\n",
    "    print(\"{num}|\".format(num=8-i) + ' '.join(board[i]))\n",
    "print(\"-+\" + \"-\"*15)\n",
    "print(\" |\" + ' '.join(i for i in symbols))\n"
   ]
  },
  {
   "cell_type": "code",
   "execution_count": 21,
   "metadata": {},
   "outputs": [
    {
     "name": "stdout",
     "output_type": "stream",
     "text": [
      "a2-a3\n",
      "a2-b3\n",
      "b2-a3\n",
      "b2-b3\n",
      "b2-c3\n",
      "c2-b3\n",
      "c2-c3\n",
      "c2-d3\n",
      "d2-c3\n",
      "d2-d3\n",
      "d2-e3\n",
      "e2-d3\n",
      "e2-e3\n",
      "e2-f3\n",
      "f2-e3\n",
      "f2-f3\n",
      "f2-g3\n",
      "g2-f3\n",
      "g2-g3\n",
      "g2-h3\n",
      "h2-g3\n",
      "h2-h3\n"
     ]
    }
   ],
   "source": [
    "\n",
    "#print(sorted(moves(2)))\n",
    "for i in sorted(moves(2)):\n",
    "    print(i)"
   ]
  },
  {
   "cell_type": "code",
   "execution_count": 24,
   "metadata": {},
   "outputs": [
    {
     "name": "stdout",
     "output_type": "stream",
     "text": [
      "104\n"
     ]
    },
    {
     "data": {
      "text/plain": [
       "'8,3'"
      ]
     },
     "execution_count": 24,
     "metadata": {},
     "output_type": "execute_result"
    }
   ],
   "source": [
    "h=\"h\"\n",
    "print(ord(h))\n",
    "\n",
    "\"8,3\""
   ]
  },
  {
   "cell_type": "code",
   "execution_count": 25,
   "metadata": {},
   "outputs": [
    {
     "name": "stdout",
     "output_type": "stream",
     "text": [
      "7\n"
     ]
    }
   ],
   "source": [
    "alfabeto = \"abcdefgh\"\n",
    "print(int(alfabeto.rfind('a')))"
   ]
  }
 ],
 "metadata": {
  "kernelspec": {
   "display_name": "Python 3.9.2 64-bit",
   "language": "python",
   "name": "python3"
  },
  "language_info": {
   "codemirror_mode": {
    "name": "ipython",
    "version": 3
   },
   "file_extension": ".py",
   "mimetype": "text/x-python",
   "name": "python",
   "nbconvert_exporter": "python",
   "pygments_lexer": "ipython3",
   "version": "3.9.2"
  },
  "orig_nbformat": 4,
  "vscode": {
   "interpreter": {
    "hash": "31f2aee4e71d21fbe5cf8b01ff0e069b9275f58929596ceb00d14d90e3e16cd6"
   }
  }
 },
 "nbformat": 4,
 "nbformat_minor": 2
}
