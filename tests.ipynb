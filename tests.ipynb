{
 "cells": [
  {
   "cell_type": "code",
   "execution_count": 2,
   "metadata": {},
   "outputs": [],
   "source": [
    "from copy import *\n",
    "from random import *\n",
    "from jogos import *\n",
    "from jogar import *\n",
    "from utils import *\n",
    "import string\n",
    "import random\n",
    "\n",
    "from collections import namedtuple\n",
    "\n",
    "stateBreakthru = namedtuple('EstadoBreakthru', 'to_move, board_arg')\n",
    "\n",
    "class EstadoBreakthru(stateBreakthru):\n",
    "    \n",
    "    def __init__(self, to_move=1, n=8, board_arg=[]):\n",
    "        #self.terminou = self.verificar_terminou()\n",
    "        if(len(board_arg) == 0):\n",
    "            self.board = [['.' for i in range(n)] for i in range(n)]\n",
    "            for i in range(2):\n",
    "                for j in range(8):\n",
    "                    self.board[i][j] = 'B'\n",
    "\n",
    "            for i in range(6, 8):\n",
    "                for j in range(8):\n",
    "                    self.board[i][j] = 'W'\n",
    "        else:\n",
    "            self.board = board_arg\n",
    "\n",
    "    def verificar_terminou(self):\n",
    "        # 1 = White,  2 = Black\n",
    "        if self.to_move == 2:\n",
    "            for row in range(len(self.board)):\n",
    "                if (self.board[0][row] == 'W'):\n",
    "                    return 1\n",
    "        elif self.to_move == 1:\n",
    "            for row in range(len(self.board)):\n",
    "                if (self.board[7][row] == 'B'):\n",
    "                    return 2\n",
    "        return 0\n",
    "    \n",
    "    def pos_convert(self, i, j):\n",
    "        alfabeto = \"abcdefgh\"\n",
    "        return alfabeto[j] + str(8 - i)\n",
    "\n",
    "    def move_convert(self, move):\n",
    "        numbers = []\n",
    "        alfabeto = \"abcdefgh\"\n",
    "        numbers.append(int(alfabeto.rfind(move[0]))) \n",
    "        numbers.append(int(move[1]) - 1)\n",
    "        return numbers\n",
    "\n",
    "    def moves(self, to_move):\n",
    "        list_moves = []\n",
    "\n",
    "        for row in range(len(self.board)):\n",
    "            for col in range(len(self.board)):\n",
    "\n",
    "                if to_move == 1 and self.board[col][row] == 'W': # para as brancas\n",
    "\n",
    "                    if col > 0 and self.board[col-1][row] == '.': # cima\n",
    "                        list_moves.append(\"{pos1}-{pos2}\".format(pos1=self.pos_convert(col,row), pos2=self.pos_convert(col-1,row)))\n",
    "\n",
    "                    if col > 0 and row < 7 and (self.board[col-1][row+1] == '.' or self.board[col-1][row+1] == 'B'): # diagonal direita cima\n",
    "                        list_moves.append(\"{pos1}-{pos2}\".format(pos1=self.pos_convert(col,row), pos2=self.pos_convert(col-1,row+1)))\n",
    "\n",
    "                    if col > 0 and row > 0 and (self.board[col-1][row-1] == '.' or self.board[col-1][row-1] == 'B'): # diagonal esquerda cima\n",
    "                        list_moves.append(\"{pos1}-{pos2}\".format(pos1=self.pos_convert(col,row), pos2=self.pos_convert(col-1,row-1)))\n",
    "                        \n",
    "                if to_move == 2 and self.board[col][row] == 'B': # para as pretas\n",
    "\n",
    "                    if col < 7 and self.board[col+1][row] == '.': # baixo\n",
    "                        list_moves.append(\"{pos1}-{pos2}\".format(pos1=self.pos_convert(col,row), pos2=self.pos_convert(col+1,row)))\n",
    "\n",
    "                    if col < 7 and row < 7 and (self.board[col+1][row+1] == '.' or self.board[col+1][row+1] == 'W'): # diagonal direita baixo\n",
    "                        list_moves.append(\"{pos1}-{pos2}\".format(pos1=self.pos_convert(col,row), pos2=self.pos_convert(col+1,row+1)))\n",
    "\n",
    "                    if col < 7 and row > 0 and (self.board[col+1][row-1] == '.' or self.board[col+1][row-1] == 'W'): # diagonal esquerda baixo\n",
    "                        list_moves.append(\"{pos1}-{pos2}\".format(pos1=self.pos_convert(col,row), pos2=self.pos_convert(col+1,row-1)))\n",
    "    \n",
    "        return sorted(list_moves)\n",
    "\n",
    "## CLASS JOGO ##\n",
    "class JogoBT_16(Game):\n",
    "    \"\"\"Play Breakthrough on an 8 x 8 board, with Max (first player) playing 'W' (1).\n",
    "    \"\"\"\n",
    "    def __init__(self):\n",
    "        self.initial = EstadoBreakthru(to_move=1, board_arg=[])\n",
    "\n",
    "    def actions(self, state):\n",
    "        \"Legal moves for B and W\"\n",
    "        #Apenas queremos ver as ações possíveis para o jogador atual (to_move)\n",
    "        return state.moves(state.to_move)\n",
    "\n",
    "    def result(self, state, move):\n",
    "        if state.to_move == 1:\n",
    "            novo_estado = EstadoBreakthru(to_move=2, board_arg=state.board.copy)\n",
    "            index_start = state.move_convert(move[0:2])\n",
    "            new_index = state.move_convert(move[3:5])\n",
    "            novo_estado.board[7 - index_start[1]][index_start[0]] = '.'\n",
    "            novo_estado.board[7 - new_index[1]][new_index[0]] = 'W'\n",
    "            return novo_estado\n",
    "        else:\n",
    "            novo_estado = EstadoBreakthru(to_move=1, board_arg=state.board.copy)\n",
    "            index_start = state.move_convert(move[0:2])\n",
    "            new_index = state.move_convert(move[3:5])\n",
    "            novo_estado.board[7 - index_start[1]][index_start[0]] = '.'\n",
    "            novo_estado.board[7 - new_index[1]][new_index[0]] = 'B'\n",
    "            return novo_estado\n",
    "\n",
    "    def utility(self, state, player):\n",
    "        \"If player wins in this state, return 1; if otherplayer wins return -1; else return 0.\"\n",
    "        if player == state.verificar_terminou():\n",
    "            return 1\n",
    "        elif player != state.verificar_terminou() and state.verificar_terminou() > 0:\n",
    "            return -1\n",
    "        else:\n",
    "            return 0\n",
    "\n",
    "    def terminal_test(self, state):\n",
    "        \"A state is terminal if the whites reached line 8 or some black reached line 1.\"\n",
    "        return state.verificar_terminou() >= 1\n",
    "\n",
    "    def display(self, state):\n",
    "        symbols = \"abcdefgh\"\n",
    "        print(\"-\"*17)\n",
    "        for i in range(len(state.board)):\n",
    "            print(\"{num}|\".format(num=8-i) + ' '.join(state.board[i]))\n",
    "        print(\"-+\" + \"-\"*15)\n",
    "        print(\" |\" + ' '.join(i for i in symbols))\n",
    "\n",
    "        if state.verificar_terminou() >= 1:\n",
    "            return\n",
    "        elif state.to_move == 1:\n",
    "            print(\"--NEXT PLAYER: W\")\n",
    "        elif state.to_move == 2:\n",
    "            print(\"--NEXT PLAYER: B\")\n",
    "\n",
    "    def executa(self, estado, listaJogadas):\n",
    "        \"executa varias jogadas sobre um estado dado\"\n",
    "        \"devolve o estado final \"\n",
    "        s = estado\n",
    "        for j in listaJogadas:\n",
    "            s = self.result(s, j)\n",
    "        return s\n"
   ]
  },
  {
   "cell_type": "code",
   "execution_count": 3,
   "metadata": {},
   "outputs": [
    {
     "ename": "TypeError",
     "evalue": "object of type 'builtin_function_or_method' has no len()",
     "output_type": "error",
     "traceback": [
      "\u001b[0;31m---------------------------------------------------------------------------\u001b[0m",
      "\u001b[0;31mTypeError\u001b[0m                                 Traceback (most recent call last)",
      "Cell \u001b[0;32mIn [3], line 3\u001b[0m\n\u001b[1;32m      1\u001b[0m accoes \u001b[39m=\u001b[39m \u001b[39m\"\u001b[39m\u001b[39ma2-a3 a7-a6 c2-c3 a6-b5 b2-b3 b5-b4\u001b[39m\u001b[39m\"\u001b[39m\u001b[39m.\u001b[39msplit()\n\u001b[1;32m      2\u001b[0m jj \u001b[39m=\u001b[39m JogoBT_16()\n\u001b[0;32m----> 3\u001b[0m interessante\u001b[39m=\u001b[39mjj\u001b[39m.\u001b[39;49mexecuta(jj\u001b[39m.\u001b[39;49minitial, accoes)\n\u001b[1;32m      4\u001b[0m \u001b[39mprint\u001b[39m(\u001b[39m\"\u001b[39m\u001b[39mO que está lá?\u001b[39m\u001b[39m\"\u001b[39m)\n\u001b[1;32m      5\u001b[0m \u001b[39mprint\u001b[39m(interessante\u001b[39m.\u001b[39mboard[\u001b[39m1\u001b[39m][\u001b[39m0\u001b[39m])\n",
      "Cell \u001b[0;32mIn [2], line 143\u001b[0m, in \u001b[0;36mJogoBT_16.executa\u001b[0;34m(self, estado, listaJogadas)\u001b[0m\n\u001b[1;32m    141\u001b[0m s \u001b[39m=\u001b[39m estado\n\u001b[1;32m    142\u001b[0m \u001b[39mfor\u001b[39;00m j \u001b[39min\u001b[39;00m listaJogadas:\n\u001b[0;32m--> 143\u001b[0m     s \u001b[39m=\u001b[39m \u001b[39mself\u001b[39;49m\u001b[39m.\u001b[39;49mresult(s, j)\n\u001b[1;32m    144\u001b[0m \u001b[39mreturn\u001b[39;00m s\n",
      "Cell \u001b[0;32mIn [2], line 96\u001b[0m, in \u001b[0;36mJogoBT_16.result\u001b[0;34m(self, state, move)\u001b[0m\n\u001b[1;32m     94\u001b[0m \u001b[39mdef\u001b[39;00m \u001b[39mresult\u001b[39m(\u001b[39mself\u001b[39m, state, move):\n\u001b[1;32m     95\u001b[0m     \u001b[39mif\u001b[39;00m state\u001b[39m.\u001b[39mto_move \u001b[39m==\u001b[39m \u001b[39m1\u001b[39m:\n\u001b[0;32m---> 96\u001b[0m         novo_estado \u001b[39m=\u001b[39m EstadoBreakthru(to_move\u001b[39m=\u001b[39;49m\u001b[39m2\u001b[39;49m, board_arg\u001b[39m=\u001b[39;49mstate\u001b[39m.\u001b[39;49mboard\u001b[39m.\u001b[39;49mcopy)\n\u001b[1;32m     97\u001b[0m         index_start \u001b[39m=\u001b[39m state\u001b[39m.\u001b[39mmove_convert(move[\u001b[39m0\u001b[39m:\u001b[39m2\u001b[39m])\n\u001b[1;32m     98\u001b[0m         new_index \u001b[39m=\u001b[39m state\u001b[39m.\u001b[39mmove_convert(move[\u001b[39m3\u001b[39m:\u001b[39m5\u001b[39m])\n",
      "Cell \u001b[0;32mIn [2], line 17\u001b[0m, in \u001b[0;36mEstadoBreakthru.__init__\u001b[0;34m(self, to_move, n, board_arg)\u001b[0m\n\u001b[1;32m     15\u001b[0m \u001b[39mdef\u001b[39;00m \u001b[39m__init__\u001b[39m(\u001b[39mself\u001b[39m, to_move\u001b[39m=\u001b[39m\u001b[39m1\u001b[39m, n\u001b[39m=\u001b[39m\u001b[39m8\u001b[39m, board_arg\u001b[39m=\u001b[39m[]):\n\u001b[1;32m     16\u001b[0m     \u001b[39m#self.terminou = self.verificar_terminou()\u001b[39;00m\n\u001b[0;32m---> 17\u001b[0m     \u001b[39mif\u001b[39;00m(\u001b[39mlen\u001b[39;49m(board_arg) \u001b[39m==\u001b[39m \u001b[39m0\u001b[39m):\n\u001b[1;32m     18\u001b[0m         \u001b[39mself\u001b[39m\u001b[39m.\u001b[39mboard \u001b[39m=\u001b[39m [[\u001b[39m'\u001b[39m\u001b[39m.\u001b[39m\u001b[39m'\u001b[39m \u001b[39mfor\u001b[39;00m i \u001b[39min\u001b[39;00m \u001b[39mrange\u001b[39m(n)] \u001b[39mfor\u001b[39;00m i \u001b[39min\u001b[39;00m \u001b[39mrange\u001b[39m(n)]\n\u001b[1;32m     19\u001b[0m         \u001b[39mfor\u001b[39;00m i \u001b[39min\u001b[39;00m \u001b[39mrange\u001b[39m(\u001b[39m2\u001b[39m):\n",
      "\u001b[0;31mTypeError\u001b[0m: object of type 'builtin_function_or_method' has no len()"
     ]
    }
   ],
   "source": [
    "accoes = \"a2-a3 a7-a6 c2-c3 a6-b5 b2-b3 b5-b4\".split()\n",
    "jj = JogoBT_16()\n",
    "interessante=jj.executa(jj.initial, accoes)\n",
    "print(\"O que está lá?\")\n",
    "print(interessante.board[1][0])\n",
    "novas_accoes = jj.actions(interessante)\n",
    "outrointeressante=jj.result(interessante,novas_accoes[0])\n",
    "print(\"O que está lá?\")\n",
    "print(interessante.board[1][0])\n",
    "jj.display(interessante)\n",
    "print(\"Jogadas possíveis: \", novas_accoes)"
   ]
  },
  {
   "cell_type": "code",
   "execution_count": 11,
   "metadata": {},
   "outputs": [
    {
     "name": "stdout",
     "output_type": "stream",
     "text": [
      "O que está lá?\n",
      "B\n",
      "O que está lá?\n",
      "B\n",
      "-----------------\n",
      "8|B B B B B B B B\n",
      "7|. B B B B B B B\n",
      "6|. . . . . . . .\n",
      "5|. . . . . . . .\n",
      "4|. B . . . . . .\n",
      "3|W W W . . . . .\n",
      "2|W . . W W W W W\n",
      "1|. W W W W W W W\n",
      "-+---------------\n",
      " |a b c d e f g h\n",
      "--NEXT PLAYER: W\n",
      "Jogadas possíveis:  ['a1-a2', 'a1-b2', 'a3-a4', 'a3-b4', 'b1-a2', 'b1-b2', 'b1-c2', 'b3-a4', 'b3-c4', 'c1-b2', 'c1-c2', 'c3-b4', 'c3-c4', 'c3-d4', 'd1-c2', 'd2-d3', 'd2-e3', 'e2-d3', 'e2-e3', 'e2-f3', 'f2-e3', 'f2-f3', 'f2-g3', 'g2-f3', 'g2-g3', 'g2-h3', 'h2-g3', 'h2-h3']\n"
     ]
    }
   ],
   "source": [
    "accoes = \"a2-a3 a7-a6 c2-c3 a6-b5 b2-b3 b5-b4\".split()\n",
    "jj = JogoBT_16()\n",
    "interessante=jj.executa(jj.initial, accoes)\n",
    "print(\"O que está lá?\")\n",
    "print(interessante.board[0][1])\n",
    "novas_accoes = jj.actions(interessante)\n",
    "outrointeressante=jj.result(interessante,novas_accoes[0])\n",
    "print(\"O que está lá?\")\n",
    "print(interessante.board[0][1])\n",
    "jj.display(interessante)\n",
    "print(\"Jogadas possíveis: \", novas_accoes)"
   ]
  },
  {
   "cell_type": "code",
   "execution_count": 12,
   "metadata": {},
   "outputs": [
    {
     "name": "stdout",
     "output_type": "stream",
     "text": [
      "a\n"
     ]
    }
   ],
   "source": [
    "accoes = \"a2-a3 a7-a6 c2-c3 a6-b5 b2-b3 b5-b4\"\n",
    "actions = [\"g2-h3\",\"e7-f6\"]\n",
    "['a2-a3', 'a2-b3', 'b2-a3', 'b2-b3', 'b2-c3', 'c2-b3', 'c2-c3', 'c2-d3', 'd2-c3', 'd2-d3', 'd2-e3', 'e2-d3', 'e2-e3', 'e2-f3', 'f2-e3', 'f2-f3', 'f2-g3', 'g2-f3', 'g2-g3', 'g2-h3', 'h2-g3', 'h2-h3']\n",
    "\n",
    "def test(accoes):\n",
    "    for i in range(1, 9):\n",
    "        for mov in accoes:\n",
    "            if str(i) in accoes[0:2]:\n",
    "                return mov\n",
    "\n",
    "print(test(accoes))\n",
    "    \n",
    "    \n",
    "\n",
    "\n",
    "\n"
   ]
  },
  {
   "cell_type": "code",
   "execution_count": null,
   "metadata": {},
   "outputs": [
    {
     "name": "stdout",
     "output_type": "stream",
     "text": [
      "True\n",
      "True\n"
     ]
    }
   ],
   "source": [
    "umsetnormal = set()\n",
    "umsetnormal.add(\"a1-a2\")\n",
    "umsetnormal.add(\"b1-b2\")\n",
    "for x in umsetnormal:\n",
    "    print(\"1\" in x[1])"
   ]
  },
  {
   "cell_type": "code",
   "execution_count": null,
   "metadata": {},
   "outputs": [
    {
     "name": "stdout",
     "output_type": "stream",
     "text": [
      "a1-a2\n",
      "b1-b2\n"
     ]
    }
   ],
   "source": [
    "moves = set()\n",
    "moves.add(\"b1-b2\")\n",
    "moves.add(\"a1-a2\")\n",
    "for i in range(1, 9):\n",
    "        for mov in moves:\n",
    "            if str(i) in mov[1]:\n",
    "                print(mov)"
   ]
  },
  {
   "cell_type": "code",
   "execution_count": null,
   "metadata": {},
   "outputs": [],
   "source": []
  }
 ],
 "metadata": {
  "kernelspec": {
   "display_name": "Python 3.9.2 64-bit",
   "language": "python",
   "name": "python3"
  },
  "language_info": {
   "codemirror_mode": {
    "name": "ipython",
    "version": 3
   },
   "file_extension": ".py",
   "mimetype": "text/x-python",
   "name": "python",
   "nbconvert_exporter": "python",
   "pygments_lexer": "ipython3",
   "version": "3.10.6"
  },
  "orig_nbformat": 4,
  "vscode": {
   "interpreter": {
    "hash": "31f2aee4e71d21fbe5cf8b01ff0e069b9275f58929596ceb00d14d90e3e16cd6"
   }
  }
 },
 "nbformat": 4,
 "nbformat_minor": 2
}
