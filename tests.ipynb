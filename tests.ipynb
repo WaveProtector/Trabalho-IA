{
 "cells": [
  {
   "cell_type": "code",
   "execution_count": 79,
   "metadata": {},
   "outputs": [],
   "source": [
    "n = 8\n",
    "board = [['.' for i in range(n)] for i in range(n)]"
   ]
  },
  {
   "cell_type": "code",
   "execution_count": 80,
   "metadata": {},
   "outputs": [],
   "source": [
    "for x in range(2):\n",
    "    for y in range(8):\n",
    "        board[x][y] = \"B\"      "
   ]
  },
  {
   "cell_type": "code",
   "execution_count": 81,
   "metadata": {},
   "outputs": [
    {
     "name": "stdout",
     "output_type": "stream",
     "text": [
      "B B B B B B B B\n",
      "B B B B B B B B\n",
      ". . . . . . . .\n",
      ". . . . . . . .\n",
      ". . . . . . . .\n",
      ". . . . . . . .\n",
      ". . . . . . . .\n",
      ". . . . . . . .\n"
     ]
    }
   ],
   "source": [
    "print(\"\\n\".join(' '.join(c for c in row) for row in board))"
   ]
  },
  {
   "cell_type": "code",
   "execution_count": 82,
   "metadata": {},
   "outputs": [],
   "source": [
    "for x in range(6, 8):\n",
    "    for y in range(8):\n",
    "        board[x][y] = \"W\"   "
   ]
  },
  {
   "cell_type": "code",
   "execution_count": 83,
   "metadata": {},
   "outputs": [
    {
     "name": "stdout",
     "output_type": "stream",
     "text": [
      "B B B B B B B B\n",
      "B B B B B B B B\n",
      ". . . . . . . .\n",
      ". . . . . . . .\n",
      ". . . . . . . .\n",
      ". . . . . . . .\n",
      "W W W W W W W W\n",
      "W W W W W W W W\n"
     ]
    }
   ],
   "source": [
    "print(\"\\n\".join(' '.join(c for c in row) for row in board))"
   ]
  },
  {
   "cell_type": "code",
   "execution_count": 84,
   "metadata": {},
   "outputs": [],
   "source": [
    "board = [['.' for i in range(n)] for i in range(n)]\n",
    "\n",
    "for i in range(2):\n",
    "    for j in range(8):\n",
    "        board[i][j] = 'B'\n",
    "\n",
    "for i in range(6, 8):\n",
    "    for j in range(8):\n",
    "        board[i][j] = 'W'\n",
    "\n",
    "def moves(to_move):\n",
    "    list_moves = set()\n",
    "    for i in range(0,8):\n",
    "        for j in range(0,8):\n",
    "            if board[i][j] == 'B' and to_move == 2 and j+1 <= 7:\n",
    "                if board[i+1][j] == '.' and i+1 <= 7:\n",
    "                    list_moves.add(\"{pos1}-{pos2}\".format(pos1=pos_convert(i,j), pos2=pos_convert(i+1,j)))\n",
    "                if (board[i+1][j+1] == 'W' or board[i+1][j+1] == '.') and i+1 <= 7 and j+1 <= 7:\n",
    "                    list_moves.add(\"{pos1}-{pos2}\".format(pos1=pos_convert(i,j), pos2=pos_convert(i+1,j+1)))\n",
    "                if (board[i+1][j-1] == 'W' or board[i+1][j-1] == '.') and i+1 <=7 and j-1 >= 0:\n",
    "                    list_moves.add(\"{pos1}-{pos2}\".format(pos1=pos_convert(i,j), pos2=pos_convert(i+1,j-1)))\n",
    "            if board[i][j] == 'B' and to_move == 2 and j+1 == 8:\n",
    "                if board[i+1][j] == '.' and i+1 <= 7:\n",
    "                    list_moves.add(\"{pos1}-{pos2}\".format(pos1=pos_convert(i,j), pos2=pos_convert(i+1,j)))\n",
    "                if (board[i+1][j-1] == 'W' or board[i+1][j-1] == '.') and i+1 <= 7:\n",
    "                    list_moves.add(\"{pos1}-{pos2}\".format(pos1=pos_convert(i,j), pos2=pos_convert(i+1,j-1)))           \n",
    "\n",
    "            if board[i][j] == 'W' and to_move == 1 and j+1 <= 7:\n",
    "                if board[i-1][j] == '.' and i-1 >= 0:\n",
    "                    list_moves.add(\"{pos1}-{pos2}\".format(pos1=pos_convert(i,j), pos2=pos_convert(i-1,j)))\n",
    "                if (board[i-1][j+1] == 'B' or board[i-1][j+1] == '.') and i-1 >= 0 and j+1 <= 7:\n",
    "                    list_moves.add(\"{pos1}-{pos2}\".format(pos1=pos_convert(i,j), pos2=pos_convert(i-1,j+1)))\n",
    "                if (board[i-1][j-1] == 'B' or board[i-1][j-1] == '.') and i-1 >= 0 and j-1 >= 0:\n",
    "                    list_moves.add(\"{pos1}-{pos2}\".format(pos1=pos_convert(i,j), pos2=pos_convert(i-1,j-1)))\n",
    "            if board[i][j] == 'W' and to_move == 1 and j+1 == 8:\n",
    "                if board[i-1][j] == '.' and i-1 >= 0:\n",
    "                    list_moves.add(\"{pos1}-{pos2}\".format(pos1=pos_convert(i,j), pos2=pos_convert(i-1,j)))\n",
    "                if (board[i-1][j-1] == 'B' or board[i-1][j-1] == '.') and i-1 >= 0:\n",
    "                    list_moves.add(\"{pos1}-{pos2}\".format(pos1=pos_convert(i,j), pos2=pos_convert(i-1,j-1)))\n",
    "        \n",
    "    return list_moves\n",
    "\n",
    "def pos_convert(i, j):\n",
    "    alfabeto = \"abcdefgh\"\n",
    "    return alfabeto[j] + str(8 - i)"
   ]
  },
  {
   "cell_type": "code",
   "execution_count": 85,
   "metadata": {},
   "outputs": [
    {
     "name": "stdout",
     "output_type": "stream",
     "text": [
      "[7, 1]\n"
     ]
    }
   ],
   "source": [
    "move = \"h2\"\n",
    "numbers = []\n",
    "alfabeto = \"abcdefgh\"\n",
    "numbers.append(int(alfabeto.rfind(move[0])))\n",
    "numbers.append(int(move[1]) - 1)\n",
    "print(numbers)"
   ]
  },
  {
   "cell_type": "code",
   "execution_count": 86,
   "metadata": {},
   "outputs": [
    {
     "name": "stdout",
     "output_type": "stream",
     "text": [
      "['a2-a3', 'a2-b3', 'b2-a3', 'b2-b3', 'b2-c3', 'c2-b3', 'c2-c3', 'c2-d3', 'd2-c3', 'd2-d3', 'd2-e3', 'e2-d3', 'e2-e3', 'e2-f3', 'f2-e3', 'f2-f3', 'f2-g3', 'g2-f3', 'g2-g3', 'g2-h3', 'h2-g3', 'h2-h3']\n"
     ]
    }
   ],
   "source": [
    "\n",
    "print(sorted(moves(1)))"
   ]
  }
 ],
 "metadata": {
  "kernelspec": {
   "display_name": "Python 3.9.2 64-bit",
   "language": "python",
   "name": "python3"
  },
  "language_info": {
   "codemirror_mode": {
    "name": "ipython",
    "version": 3
   },
   "file_extension": ".py",
   "mimetype": "text/x-python",
   "name": "python",
   "nbconvert_exporter": "python",
   "pygments_lexer": "ipython3",
   "version": "3.9.6"
  },
  "orig_nbformat": 4,
  "vscode": {
   "interpreter": {
    "hash": "31f2aee4e71d21fbe5cf8b01ff0e069b9275f58929596ceb00d14d90e3e16cd6"
   }
  }
 },
 "nbformat": 4,
 "nbformat_minor": 2
}
